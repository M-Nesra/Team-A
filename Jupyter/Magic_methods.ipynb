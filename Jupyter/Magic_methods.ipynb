{
 "cells": [
  {
   "cell_type": "code",
   "execution_count": 5,
   "id": "44aad1d6-0a2e-4f6c-8231-c6892b5d461e",
   "metadata": {},
   "outputs": [
    {
     "name": "stdout",
     "output_type": "stream",
     "text": [
      " 720 pages.\n",
      " The title of the book is To kill a mockingbird\n"
     ]
    }
   ],
   "source": [
    "class Book:\n",
    "    def __init__(self,title,pages):\n",
    "        self.title = title\n",
    "        self.pages = pages\n",
    "\n",
    "    def __add__(self,other):\n",
    "        return f\" {self.pages + other.pages} pages.\"\n",
    "\n",
    "    def __str__(self):\n",
    "        return f\" The title of the book is {self.title}\"\n",
    "\n",
    "book1 = Book(\"To kill a mockingbird\", 336)\n",
    "book2 = Book(\"The Art of war\", 384)\n",
    "\n",
    "print(book1+book2)\n",
    "print (book1)\n",
    "    \n",
    "    "
   ]
  },
  {
   "cell_type": "code",
   "execution_count": null,
   "id": "e6c980f5-1a73-40e3-b064-b8caeaa0bf88",
   "metadata": {},
   "outputs": [],
   "source": []
  }
 ],
 "metadata": {
  "kernelspec": {
   "display_name": "Python 3 (ipykernel)",
   "language": "python",
   "name": "python3"
  },
  "language_info": {
   "codemirror_mode": {
    "name": "ipython",
    "version": 3
   },
   "file_extension": ".py",
   "mimetype": "text/x-python",
   "name": "python",
   "nbconvert_exporter": "python",
   "pygments_lexer": "ipython3",
   "version": "3.13.1"
  }
 },
 "nbformat": 4,
 "nbformat_minor": 5
}
