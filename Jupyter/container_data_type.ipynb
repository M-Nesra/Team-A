{
 "cells": [
  {
   "cell_type": "markdown",
   "id": "a3362c78-b251-4d67-a866-737f03582580",
   "metadata": {},
   "source": [
    "#### Sequence Unpacking\n",
    "Sequence unpacking is assigning values from a sequence to variables in a single statement\n",
    "```\n",
    "numbers = (1, 2, 3)\n",
    "a, b, c = numbers\n",
    "```\n",
    "\n",
    "#### Syntax for adding a key/value pair to a dictionary\n",
    "```\n",
    "DICT[KEY] = VALUE\n",
    "student = {\n",
    "    \"name\": \"Alice\",\n",
    "    \"age\": 20\n",
    "}\n",
    "\n",
    "# Adding a new key/value pair\n",
    "student[\"grade\"] = \"A\"\n",
    "```\n",
    "\n",
    "#### Syntax for using a key to retrieve a value from a dictionary\n",
    "```\n",
    "VALUE = DICT[KEY]\n",
    "student = {\n",
    "    \"name\": \"Alice\",\n",
    "    \"age\": 20,\n",
    "    \"grade\": \"A\"\n",
    "}\n",
    "\n",
    "# Retrieving the value for key \"name\"\n",
    "name = student[\"name\"]\n",
    "```\n",
    "\n",
    "#### Union\n",
    "union of two sets combines value that are in both sets\n",
    "```\n",
    "set1 = {1, 2, 3}\n",
    "set2 = {3, 4, 5}\n",
    "\n",
    "union_set = set_a | set_b \n",
    "```"
   ]
  }
 ],
 "metadata": {
  "kernelspec": {
   "display_name": "Python 3 (ipykernel)",
   "language": "python",
   "name": "python3"
  },
  "language_info": {
   "codemirror_mode": {
    "name": "ipython",
    "version": 3
   },
   "file_extension": ".py",
   "mimetype": "text/x-python",
   "name": "python",
   "nbconvert_exporter": "python",
   "pygments_lexer": "ipython3",
   "version": "3.13.1"
  }
 },
 "nbformat": 4,
 "nbformat_minor": 5
}
