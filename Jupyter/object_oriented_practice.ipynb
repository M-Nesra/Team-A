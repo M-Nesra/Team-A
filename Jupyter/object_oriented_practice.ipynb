{
 "cells": [
  {
   "cell_type": "markdown",
   "id": "ef8a323f-17c4-4485-b487-c096d50bbb61",
   "metadata": {},
   "source": [
    "### Class\n",
    " A class is a blueprint for creating objects\n",
    "\n",
    "### Method\n",
    "A method is like a function that is defined within a class\n",
    "\n",
    "### Attribute\n",
    "An attribute is like a property or characteristic of an object"
   ]
  },
  {
   "cell_type": "code",
   "execution_count": 6,
   "id": "c8db3dac-5bb7-4425-9285-809c28c6ed3f",
   "metadata": {},
   "outputs": [
    {
     "name": "stdout",
     "output_type": "stream",
     "text": [
      "i want a black BMW M5.\n"
     ]
    }
   ],
   "source": [
    "class Car:\n",
    "    def __init__(self, brand, model, color):\n",
    "        self.brand = brand\n",
    "        self.model = model\n",
    "        self.color = color\n",
    "\n",
    "    def car_type(self):\n",
    "        return f\"i want a {self.color} {self.brand} {self.model}.\"\n",
    "\n",
    "# Create an instance of the car class\n",
    "my_car = Car(\"BMW\", \"M5\", \"black\")\n",
    "\n",
    "# Invoking the method\n",
    "print(my_car.car_type())\n"
   ]
  },
  {
   "cell_type": "code",
   "execution_count": null,
   "id": "b830bee7-c977-45ea-b6c0-d1c5b5b419b5",
   "metadata": {},
   "outputs": [],
   "source": []
  },
  {
   "cell_type": "code",
   "execution_count": null,
   "id": "eae874b6-67c7-4244-ac04-5bc16d4451c9",
   "metadata": {},
   "outputs": [],
   "source": []
  }
 ],
 "metadata": {
  "kernelspec": {
   "display_name": "Python 3 (ipykernel)",
   "language": "python",
   "name": "python3"
  },
  "language_info": {
   "codemirror_mode": {
    "name": "ipython",
    "version": 3
   },
   "file_extension": ".py",
   "mimetype": "text/x-python",
   "name": "python",
   "nbconvert_exporter": "python",
   "pygments_lexer": "ipython3",
   "version": "3.13.1"
  }
 },
 "nbformat": 4,
 "nbformat_minor": 5
}
