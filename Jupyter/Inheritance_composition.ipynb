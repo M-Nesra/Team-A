{
 "cells": [
  {
   "cell_type": "code",
   "execution_count": null,
   "id": "952d7b1e-c1d1-4e64-b8e1-7d64a79acd20",
   "metadata": {},
   "outputs": [],
   "source": [
    "### Inheritance\n",
    "   Inheritance is when a class is defined by creating a subclass and the subclass inherits features from the parent class.\n",
    "\n",
    "```\n",
    "class Animal:\n",
    "    def speak(self):\n",
    "        return \"Some sound\"\n",
    "\n",
    "class Dog(Animal): \n",
    "    def speak(self):\n",
    "        return \"Bark!\"\n",
    "\n",
    "dog = Dog()\n",
    "print(dog.speak())  \n",
    "\n",
    "```\n",
    "### Composition\n",
    " Composition is when an object is made up of other objects. Instead of inheriting properties from a parent class, \n",
    " one class contains another class as a part of it.\n",
    "     \n",
    "```\n",
    "class Engine:\n",
    "    def start(self):\n",
    "        return \"Engine starting...\"\n",
    "\n",
    "class Car:\n",
    "    def __init__(self):\n",
    "        self.engine = Engine()  \n",
    "\n",
    "    def start_car(self):\n",
    "        return self.engine.start()\n",
    "\n",
    "car = Car()\n",
    "print(car.start_car())  \n",
    "\n",
    " ```"
   ]
  }
 ],
 "metadata": {
  "kernelspec": {
   "display_name": "Python 3 (ipykernel)",
   "language": "python",
   "name": "python3"
  },
  "language_info": {
   "codemirror_mode": {
    "name": "ipython",
    "version": 3
   },
   "file_extension": ".py",
   "mimetype": "text/x-python",
   "name": "python",
   "nbconvert_exporter": "python",
   "pygments_lexer": "ipython3",
   "version": "3.13.1"
  }
 },
 "nbformat": 4,
 "nbformat_minor": 5
}
