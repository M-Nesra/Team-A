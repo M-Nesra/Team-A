{
 "cells": [
  {
   "cell_type": "markdown",
   "id": "62c08a0e-a2b0-454f-824a-197f9137b6b8",
   "metadata": {},
   "source": [
    "# Condtional expression\n",
    "Conditional expression evaluates a given condition and returns one of two values based on whether the condition is true or false\n",
    "```\n",
    "grade = 85\n",
    "status = \"pass\" if grade >= 60 else \"fail\"\n",
    "```\n",
    "\n",
    "# passing keyword arguments to functions\n",
    "Keyword arguments allow you to specify the name of the parameters along with their corresponding values when calling a function. It makescode more readable and flexible.\n",
    "```\n",
    "def check_weather(temperature, unit=\"Celsius\"):\n",
    "```\n",
    "# defining functions with optional parameters\n",
    "Optional parameters have default values, so if the caller doesn't provide them, the function uses the default values.\n",
    "```\n",
    "def calculate_price(meal_cost, tax_rate=0.08, tip_rate=0.15, discount=0.0):\n",
    "    total = sum([meal_cost, meal_cost * tax_rate, meal_cost * tip_rate]) * (1 - discount)\n",
    "    return total\n",
    "```\n",
    "                          "
   ]
  }
 ],
 "metadata": {
  "kernelspec": {
   "display_name": "Python 3 (ipykernel)",
   "language": "python",
   "name": "python3"
  },
  "language_info": {
   "codemirror_mode": {
    "name": "ipython",
    "version": 3
   },
   "file_extension": ".py",
   "mimetype": "text/x-python",
   "name": "python",
   "nbconvert_exporter": "python",
   "pygments_lexer": "ipython3",
   "version": "3.13.1"
  }
 },
 "nbformat": 4,
 "nbformat_minor": 5
}
