{
 "cells": [
  {
   "cell_type": "markdown",
   "metadata": {},
   "source": [
    "# Practice: Python fundamentals 1\n",
    "\n",
    "## Conditional expressions\n",
    "\n",
    "Syntax: `EXPR1 if CONDITION else EXPR2`\n",
    "\n",
    "The result of a conditional expression depends on some condition.\n",
    "\n",
    "Here is a basic example: calculating the overtime component of someone's pay."
   ]
  },
  {
   "cell_type": "code",
   "execution_count": 1,
   "metadata": {},
   "outputs": [],
   "source": [
    "def overtime(hours):\n",
    "    return 0 if hours <= 40 else (hours - 40) * 1.5"
   ]
  },
  {
   "cell_type": "code",
   "execution_count": 2,
   "metadata": {},
   "outputs": [
    {
     "data": {
      "text/plain": [
       "0"
      ]
     },
     "execution_count": 2,
     "metadata": {},
     "output_type": "execute_result"
    }
   ],
   "source": [
    "overtime(35)"
   ]
  },
  {
   "cell_type": "code",
   "execution_count": 3,
   "metadata": {},
   "outputs": [
    {
     "data": {
      "text/plain": [
       "7.5"
      ]
     },
     "execution_count": 3,
     "metadata": {},
     "output_type": "execute_result"
    }
   ],
   "source": [
    "overtime(45)"
   ]
  },
  {
   "cell_type": "markdown",
   "metadata": {},
   "source": [
    "### Chained conditional expressions\n",
    "\n",
    "The \"else\" expression of a conditional expression can be another conditional expression. In this way, it's possible to write an expression that considers multiple conditions.\n",
    "\n",
    "The following example is based on volume discounts offered by a magnet reseller: https://www.magnet4less.com/n52-neodymium-rare-earth-magnets-3-16-in-x-3-16-in-cylinder"
   ]
  },
  {
   "cell_type": "code",
   "execution_count": 4,
   "metadata": {},
   "outputs": [],
   "source": [
    "def calculate_price(qty):\n",
    "    unit_price = (0.21 if qty <   40 else\n",
    "                  0.20 if qty <  300 else\n",
    "                  0.19 if qty < 2700 else\n",
    "                  0.16 if qty < 9999 else\n",
    "                  0.15)\n",
    "    return unit_price * qty"
   ]
  },
  {
   "cell_type": "code",
   "execution_count": 5,
   "metadata": {},
   "outputs": [
    {
     "name": "stdout",
     "output_type": "stream",
     "text": [
      "5 magnets cost $ 1.05\n",
      "50 magnets cost $ 10.0\n",
      "500 magnets cost $ 95.0\n",
      "5000 magnets cost $ 800.0\n",
      "50000 magnets cost $ 7500.0\n"
     ]
    }
   ],
   "source": [
    "for qty in [5, 50, 500, 5000, 50_000]:\n",
    "    print(qty, \"magnets cost $\", calculate_price(qty))"
   ]
  },
  {
   "cell_type": "markdown",
   "metadata": {},
   "source": [
    "## Keyword arguments\n",
    "\n",
    "Arguments are values for parameters. Python has to match the arguments in a function call to the parameters of the function. There are two ways it does this. By default, the position of the arguments determines which parameters the arguments correspond to: the first argument corresponds to the first parameter, the second argument correpsonds to the second parameter, and so on. Some arguments can be specified as keyword arguments, using the syntax `KEYWORD=VALUE`. Because a keyword argument specifies the parameter it corresponds to, the order of keyword arguments is less important than the order of positional arguments. However, when a function call includes a combination of positional and keyword arguments, positional arguments must come first.\n",
    "\n",
    "The `print()` function takes some optional keyword arguments, including `sep`, which determines what separator string to print in between each positional argument:"
   ]
  },
  {
   "cell_type": "code",
   "execution_count": 6,
   "metadata": {},
   "outputs": [
    {
     "name": "stdout",
     "output_type": "stream",
     "text": [
      "Let's separate/these strings/with a forward slash\n"
     ]
    }
   ],
   "source": [
    "print(\"Let's separate\", \"these strings\", \"with a forward slash\", sep=\"/\")"
   ]
  },
  {
   "cell_type": "markdown",
   "metadata": {},
   "source": [
    "## Optional parameters\n",
    "\n",
    "Optional parameters are parameters that have been assigned a default value. When a function with optional parameters is called, the caller has the option to provide an explicit value for the optional parameters, or omit them and let the default values apply.\n",
    "\n",
    "Keyword arguments and optional parameters are closely related concepts. Like keyword arguments, optional parameters have to follow mandatory parameters. Also much like keyword arguments, optional parameters are specified using the syntax `PARAMETER=DEFAULT_VALUE`. It's common to use keyword arguments to provide values for optional parameters.\n",
    "\n",
    "Here's a function that will calculate a raise for someone. The default raise is 10\\%, but you can specify a different raise. Note that the salary is a required argument because it has no natural default value."
   ]
  },
  {
   "cell_type": "code",
   "execution_count": 7,
   "metadata": {},
   "outputs": [],
   "source": [
    "def calculate_raise(salary, raise_amt=0.1):\n",
    "    return salary * (1 + raise_amt)"
   ]
  },
  {
   "cell_type": "markdown",
   "metadata": {},
   "source": [
    "Let's calculate a raise using the default raise amount:"
   ]
  },
  {
   "cell_type": "code",
   "execution_count": 8,
   "metadata": {},
   "outputs": [
    {
     "data": {
      "text/plain": [
       "55000.00000000001"
      ]
     },
     "execution_count": 8,
     "metadata": {},
     "output_type": "execute_result"
    }
   ],
   "source": [
    "calculate_raise(50_000)"
   ]
  },
  {
   "cell_type": "markdown",
   "metadata": {},
   "source": [
    "Now let's specify a different raise amount:"
   ]
  },
  {
   "cell_type": "code",
   "execution_count": 9,
   "metadata": {},
   "outputs": [
    {
     "data": {
      "text/plain": [
       "56000.00000000001"
      ]
     },
     "execution_count": 9,
     "metadata": {},
     "output_type": "execute_result"
    }
   ],
   "source": [
    "calculate_raise(50_000, 0.12)"
   ]
  },
  {
   "cell_type": "markdown",
   "metadata": {},
   "source": [
    "Same thing as above, but using a keyword argument:"
   ]
  },
  {
   "cell_type": "code",
   "execution_count": 10,
   "metadata": {},
   "outputs": [
    {
     "data": {
      "text/plain": [
       "56000.00000000001"
      ]
     },
     "execution_count": 10,
     "metadata": {},
     "output_type": "execute_result"
    }
   ],
   "source": [
    "calculate_raise(50_000, raise_amt=0.12)"
   ]
  }
 ],
 "metadata": {
  "kernelspec": {
   "display_name": "Python 3",
   "language": "python",
   "name": "python3"
  },
  "language_info": {
   "codemirror_mode": {
    "name": "ipython",
    "version": 3
   },
   "file_extension": ".py",
   "mimetype": "text/x-python",
   "name": "python",
   "nbconvert_exporter": "python",
   "pygments_lexer": "ipython3",
   "version": "3.8.5"
  }
 },
 "nbformat": 4,
 "nbformat_minor": 4
}
