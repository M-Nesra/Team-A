{
 "cells": [
  {
   "cell_type": "markdown",
   "id": "c0d208cd-2e3a-4371-b103-a7f7cbe03029",
   "metadata": {},
   "source": [
    "### Assert statements\n",
    "An assert statements checks if an expression evaluates to true else its raises an AssertionError.\n",
    "```\n",
    "x = 5\n",
    "assert x>3\n",
    "```\n",
    "### math.isclose()\n",
    "   math.isclose() checks if two float numbers are approximately equal because they aren't always exact,.\n",
    "```\n",
    "from math import isclose\n",
    "a = 0.1 + 0.2\n",
    "b = 0.3\n",
    "assert isclose(a, b)\n",
    "```\n",
    "\n",
    "### import statement (flavor#3)\n",
    "Flavor #3 is used when you don’t want to import the entire module, but only a specific object from it.\n",
    "\n",
    "\n"
   ]
  },
  {
   "cell_type": "code",
   "execution_count": 1,
   "id": "169de2cb-38bd-4fed-a98b-e94d903499d2",
   "metadata": {},
   "outputs": [
    {
     "name": "stdout",
     "output_type": "stream",
     "text": [
      "5.0\n",
      "3.141592653589793\n"
     ]
    }
   ],
   "source": [
    "from math import sqrt, pi\n",
    "\n",
    "print(sqrt(25))  \n",
    "print(pi)"
   ]
  },
  {
   "cell_type": "code",
   "execution_count": null,
   "id": "e898c3f0-c600-4d03-b6a1-c3640f7a37c8",
   "metadata": {},
   "outputs": [],
   "source": []
  }
 ],
 "metadata": {
  "kernelspec": {
   "display_name": "Python 3 (ipykernel)",
   "language": "python",
   "name": "python3"
  },
  "language_info": {
   "codemirror_mode": {
    "name": "ipython",
    "version": 3
   },
   "file_extension": ".py",
   "mimetype": "text/x-python",
   "name": "python",
   "nbconvert_exporter": "python",
   "pygments_lexer": "ipython3",
   "version": "3.13.1"
  }
 },
 "nbformat": 4,
 "nbformat_minor": 5
}
