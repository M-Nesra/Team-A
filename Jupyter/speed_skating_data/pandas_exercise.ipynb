{
 "cells": [
  {
   "cell_type": "code",
   "execution_count": 13,
   "id": "d64e808a-1b3f-48a6-bfe8-a1cd86b2a913",
   "metadata": {},
   "outputs": [
    {
     "name": "stdout",
     "output_type": "stream",
     "text": [
      "           Height     Weight\n",
      "Country                     \n",
      "CAN      1.851429  81.895731\n",
      "CHN      1.880000  81.816092\n",
      "FIN      1.880000  88.000000\n",
      "FRA      1.830000  78.000000\n",
      "GBR      1.870000  84.000000\n"
     ]
    }
   ],
   "source": [
    "import pandas as pd\n",
    "\n",
    "# Load CSV files\n",
    "files = [\"mens1500_2006.csv\", \"mens1500_2010.csv\", \"mens1500_2014.csv\", \"mens1500_2018.csv\", \"mens1500_2022.csv\"]\n",
    "dfs = [pd.read_csv(file) for file in files]\n",
    "\n",
    "# Concatenate all result files\n",
    "results_df = pd.concat(dfs, ignore_index=True)\n",
    "\n",
    "# read skater information\n",
    "skaters_df = pd.read_csv(\"speed_skaters.csv\")\n",
    "\n",
    "# Merge results with athlete information based on the athlete's name\n",
    "merged_df = results_df.merge(skaters_df, left_on=\"Athlete\", right_on=\"Name\", how=\"left\").drop(columns=[\"Name\"])\n",
    "\n",
    "# Fill missing values in the \"Weight\" column with the average weight\n",
    "merged_df[\"Weight\"] = merged_df[\"Weight\"].fillna(merged_df[\"Weight\"].mean())\n",
    "\n",
    "# Boolean Indexing: Filter skaters taller than 1.80 and heavier than 75\n",
    "filtered_df = merged_df[(merged_df[\"Height\"] > 1.80) & (merged_df[\"Weight\"] > 75)]\n",
    "\n",
    "# Perform analysis: Calculate mean height and weight per country\n",
    "analysis_df = filtered_df.groupby(\"Country\")[[\"Height\", \"Weight\"]].mean()\n",
    "\n",
    "print(analysis_df.head())  # First few rows of the analysis\n"
   ]
  },
  {
   "cell_type": "markdown",
   "id": "79c3665f-571e-4d0a-8142-567ce9fc7913",
   "metadata": {},
   "source": [
    "### Explanation\n",
    "I combined Olympic men's 1500m speed skating data from 2006 to 2022 with athlete details like height and weight. After merging the files, i handled missing weight data by replacing NaNs with the average weight.\n",
    "\n",
    "Then, i filtered the data to focus only on skaters taller than 1.80 and heavier than 75 basically the bigger athletes. To analyze this group, i used the split-apply-combine method to check the mean mean weight and height of athletes from each country."
   ]
  }
 ],
 "metadata": {
  "kernelspec": {
   "display_name": "Python 3 (ipykernel)",
   "language": "python",
   "name": "python3"
  },
  "language_info": {
   "codemirror_mode": {
    "name": "ipython",
    "version": 3
   },
   "file_extension": ".py",
   "mimetype": "text/x-python",
   "name": "python",
   "nbconvert_exporter": "python",
   "pygments_lexer": "ipython3",
   "version": "3.13.1"
  }
 },
 "nbformat": 4,
 "nbformat_minor": 5
}
