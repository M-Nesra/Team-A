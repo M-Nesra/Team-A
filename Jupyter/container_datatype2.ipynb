{
 "cells": [
  {
   "cell_type": "markdown",
   "id": "a66c180d-d4bf-40a3-b8a1-0d0191e224cc",
   "metadata": {},
   "source": [
    "### Lambda expression\n",
    "Lambda expressions are used to create anonymous functions.\n",
    "```\n",
    "numbers = [-3, 1, -5, 4]\n",
    "sorted_numbers = sorted(numbers, key=lambda x: abs(x))\n",
    "print(sorted_numbers)\n",
    "\n",
    "```\n",
    "### List comprehension\n",
    "List comprehension is a short hand notation used to create a new list from another\n",
    "```\n",
    "squares = [x**2 for x in range(5)]\n",
    "print(squares)\n",
    "\n",
    "```"
   ]
  }
 ],
 "metadata": {
  "kernelspec": {
   "display_name": "Python 3 (ipykernel)",
   "language": "python",
   "name": "python3"
  },
  "language_info": {
   "codemirror_mode": {
    "name": "ipython",
    "version": 3
   },
   "file_extension": ".py",
   "mimetype": "text/x-python",
   "name": "python",
   "nbconvert_exporter": "python",
   "pygments_lexer": "ipython3",
   "version": "3.13.1"
  }
 },
 "nbformat": 4,
 "nbformat_minor": 5
}
