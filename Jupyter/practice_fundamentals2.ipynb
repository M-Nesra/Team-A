{
 "cells": [
  {
   "cell_type": "markdown",
   "id": "14a163b7-67f1-49a9-aa6b-cb59bea40816",
   "metadata": {},
   "source": [
    "## F_strings\n",
    "  f-strings provide an easy and efficient way to insert values of different data types into string literals using curly braces {}\n",
    "  ```\n",
    "   name= \"Philips\"\n",
    "   age= 23\n",
    "print(f\"My name is {name} and i am {age} years old\")\n",
    "  ```\n",
    "## Lists\n",
    "A list are mutable and stores multiple items in a single variable.\n",
    "```\n",
    "my_list = [1, 2, 3, \"hello\", 5.5]\n",
    "print(my_list[3])\n",
    "   ```\n",
    "## Two things from the lecture about lists\n",
    "Aliases occur when two variables refer to the same list in memory\n",
    "```\n",
    "original = [1, 2, 3]\n",
    "alias = original  \n",
    "alias.append(4)  \n",
    "\n",
    "print(original)  \n",
    "print(alias)\n",
    "```\n",
    "To avoid aliasing you have to create an independent list by using the method (copy())\n",
    "```\n",
    "list1 = [1, 2, 3]\n",
    "list2 = list1.copy()  \n",
    "\n",
    "list2.append(4)  \n",
    "\n",
    "print(list1)  \n",
    "print(list2)  \n",
    "\n",
    "```\n",
    "\n",
    "\n"
   ]
  },
  {
   "cell_type": "code",
   "execution_count": 4,
   "id": "250bc844-0cbe-4991-8a74-9c209b933e82",
   "metadata": {},
   "outputs": [
    {
     "name": "stdout",
     "output_type": "stream",
     "text": [
      "Hello, this is a test file.\n",
      "\n",
      "Each line is read separately\n"
     ]
    }
   ],
   "source": [
    "with open (\"sample_file.txt\",\"r\") as file:\n",
    "    for line in file:\n",
    "        print(line)\n",
    "    "
   ]
  },
  {
   "cell_type": "code",
   "execution_count": null,
   "id": "468fc807-d8a4-42a3-8f02-ddfad8f6b89b",
   "metadata": {},
   "outputs": [],
   "source": []
  }
 ],
 "metadata": {
  "kernelspec": {
   "display_name": "Python 3 (ipykernel)",
   "language": "python",
   "name": "python3"
  },
  "language_info": {
   "codemirror_mode": {
    "name": "ipython",
    "version": 3
   },
   "file_extension": ".py",
   "mimetype": "text/x-python",
   "name": "python",
   "nbconvert_exporter": "python",
   "pygments_lexer": "ipython3",
   "version": "3.13.1"
  }
 },
 "nbformat": 4,
 "nbformat_minor": 5
}
