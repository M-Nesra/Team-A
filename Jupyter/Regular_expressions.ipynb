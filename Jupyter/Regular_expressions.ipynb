{
 "cells": [
  {
   "cell_type": "markdown",
   "id": "dc8ea8b2-6437-4ea6-9bbe-ad3fae0d73a7",
   "metadata": {},
   "source": [
    "### write the corresponding regular expression\n",
    "```\n",
    "([A-CEGH-JM-NPR-TV-Y])([+\\-*^])(\\d{3})\n",
    "\n",
    "```\n",
    "\n",
    "### Question 2\n",
    "```\n",
    "import re\n",
    "\n",
    "# Regular expression for Outer Slobovian postal code\n",
    "postal_regex = r\"([A-CEGH-JKMN-PRTVXY])([+\\-*^])(\\d{3})\"\n",
    "\n",
    "# Example postal code that matches the pattern\n",
    "test_code = \"M^456\"\n",
    "\n",
    "# Apply re.search()\n",
    "result = re.search(postal_regex, test_code)\n",
    "\n",
    "if result:\n",
    "    # Store the match object in a variable\n",
    "    full_match = result.group(0)\n",
    "    \n",
    "    # Extract and print the full matched string\n",
    "    print(\"Full match:\", full_match)\n",
    "    \n",
    "    # Extract and print the first capturing group (letter)\n",
    "    print(\"Letter:\", result.group(1))\n",
    "    \n",
    "    # Extract and print the second capturing group (symbol)\n",
    "    print(\"Symbol:\", result.group(2))\n",
    "    \n",
    "    # Extract and print the third capturing group (digits)\n",
    "    print(\"Digits:\", result.group(3))\n",
    "else:\n",
    "    print(\"No match found.\")\n",
    "\n",
    "\n",
    "```\n"
   ]
  }
 ],
 "metadata": {
  "kernelspec": {
   "display_name": "Python 3 (ipykernel)",
   "language": "python",
   "name": "python3"
  },
  "language_info": {
   "codemirror_mode": {
    "name": "ipython",
    "version": 3
   },
   "file_extension": ".py",
   "mimetype": "text/x-python",
   "name": "python",
   "nbconvert_exporter": "python",
   "pygments_lexer": "ipython3",
   "version": "3.13.1"
  }
 },
 "nbformat": 4,
 "nbformat_minor": 5
}
